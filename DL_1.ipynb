{
  "nbformat": 4,
  "nbformat_minor": 0,
  "metadata": {
    "colab": {
      "provenance": []
    },
    "kernelspec": {
      "name": "python3",
      "display_name": "Python 3"
    },
    "language_info": {
      "name": "python"
    }
  },
  "cells": [
    {
      "cell_type": "code",
      "execution_count": null,
      "metadata": {
        "id": "7mkJYET051Qs"
      },
      "outputs": [],
      "source": [
        "import numpy as np"
      ]
    },
    {
      "cell_type": "code",
      "source": [
        "a = np.array([[1, 2, 3], [4, 5, 6]])"
      ],
      "metadata": {
        "id": "YeMJSEyO7BvR"
      },
      "execution_count": null,
      "outputs": []
    },
    {
      "cell_type": "code",
      "source": [
        "a"
      ],
      "metadata": {
        "colab": {
          "base_uri": "https://localhost:8080/"
        },
        "id": "BeL59ItT8dYD",
        "outputId": "3aed3f4e-c632-4a49-9fa6-67c8447fb995"
      },
      "execution_count": null,
      "outputs": [
        {
          "output_type": "execute_result",
          "data": {
            "text/plain": [
              "array([[1, 2, 3],\n",
              "       [4, 5, 6]])"
            ]
          },
          "metadata": {},
          "execution_count": 3
        }
      ]
    },
    {
      "cell_type": "code",
      "source": [
        "a + a"
      ],
      "metadata": {
        "colab": {
          "base_uri": "https://localhost:8080/"
        },
        "id": "JlPEt6Ik8d1b",
        "outputId": "a9ce1626-31c9-4f2e-d054-288652cfe18e"
      },
      "execution_count": null,
      "outputs": [
        {
          "output_type": "execute_result",
          "data": {
            "text/plain": [
              "array([[ 2,  4,  6],\n",
              "       [ 8, 10, 12]])"
            ]
          },
          "metadata": {},
          "execution_count": 4
        }
      ]
    },
    {
      "cell_type": "code",
      "source": [
        "3 * a"
      ],
      "metadata": {
        "colab": {
          "base_uri": "https://localhost:8080/"
        },
        "id": "HoqL3yfO8fOR",
        "outputId": "1aa6cf2b-d9f6-47d3-8336-11bc5c7cc610"
      },
      "execution_count": null,
      "outputs": [
        {
          "output_type": "execute_result",
          "data": {
            "text/plain": [
              "array([[ 3,  6,  9],\n",
              "       [12, 15, 18]])"
            ]
          },
          "metadata": {},
          "execution_count": 5
        }
      ]
    },
    {
      "cell_type": "code",
      "source": [
        "type(a)"
      ],
      "metadata": {
        "colab": {
          "base_uri": "https://localhost:8080/"
        },
        "id": "Z9dRkIwk8guZ",
        "outputId": "fbb21915-8815-4ea5-c13b-af78a0d5e7e1"
      },
      "execution_count": null,
      "outputs": [
        {
          "output_type": "execute_result",
          "data": {
            "text/plain": [
              "numpy.ndarray"
            ]
          },
          "metadata": {},
          "execution_count": 6
        }
      ]
    },
    {
      "cell_type": "code",
      "source": [
        "def sumMatrix(A, B):\n",
        "    A = np.array(A)\n",
        "    B = np.array(B)\n",
        "\n",
        "    return A + B"
      ],
      "metadata": {
        "id": "kjWCTJ9T8jdE"
      },
      "execution_count": null,
      "outputs": []
    },
    {
      "cell_type": "code",
      "source": [
        "sumMatrix([1, 2, 3], [4, 5, 6])"
      ],
      "metadata": {
        "colab": {
          "base_uri": "https://localhost:8080/"
        },
        "id": "Ni5g2xPF94uG",
        "outputId": "ae9210ef-db20-44af-dca0-fd480a9bba47"
      },
      "execution_count": null,
      "outputs": [
        {
          "output_type": "execute_result",
          "data": {
            "text/plain": [
              "array([5, 7, 9])"
            ]
          },
          "metadata": {},
          "execution_count": 9
        }
      ]
    },
    {
      "cell_type": "code",
      "source": [
        "def subMatrix(A, B):\n",
        "    A = np.array(A)\n",
        "    B = np.array(B)\n",
        "\n",
        "    return A - B"
      ],
      "metadata": {
        "id": "MI-RPjZa9-yd"
      },
      "execution_count": null,
      "outputs": []
    },
    {
      "cell_type": "code",
      "source": [
        "def mulMatrix(A, B):\n",
        "    A = np.array(A)\n",
        "    B = np.array(B)\n",
        "\n",
        "    return A * B"
      ],
      "metadata": {
        "id": "2db8qBpq-d06"
      },
      "execution_count": null,
      "outputs": []
    },
    {
      "cell_type": "code",
      "source": [
        "mulMatrix([1, 2, 3], [4, 5, 6])"
      ],
      "metadata": {
        "colab": {
          "base_uri": "https://localhost:8080/"
        },
        "id": "eqp-XA5W-hcY",
        "outputId": "bf868189-3dae-41d5-9444-fee55df1d8bf"
      },
      "execution_count": null,
      "outputs": [
        {
          "output_type": "execute_result",
          "data": {
            "text/plain": [
              "array([ 4, 10, 18])"
            ]
          },
          "metadata": {},
          "execution_count": 12
        }
      ]
    },
    {
      "cell_type": "code",
      "source": [
        "def mulScalarMatrix(A, B):\n",
        "    A = np.array(A)\n",
        "\n",
        "    return A * B"
      ],
      "metadata": {
        "id": "WBdcvSKF-jXD"
      },
      "execution_count": null,
      "outputs": []
    },
    {
      "cell_type": "code",
      "source": [
        "mulScalarMatrix([1, 2, 3], 2)"
      ],
      "metadata": {
        "colab": {
          "base_uri": "https://localhost:8080/"
        },
        "id": "jJgHfHjiAPsa",
        "outputId": "728a6270-08d7-47b9-9867-c2199430b788"
      },
      "execution_count": null,
      "outputs": [
        {
          "output_type": "execute_result",
          "data": {
            "text/plain": [
              "array([2, 4, 6])"
            ]
          },
          "metadata": {},
          "execution_count": 14
        }
      ]
    },
    {
      "cell_type": "code",
      "source": [
        "import numpy as np\n",
        "\n",
        "class Matrix:\n",
        "\n",
        "    def sumMatrix(A, B):\n",
        "        A = np.array(A)\n",
        "        B = np.array(B)\n",
        "\n",
        "        return A + B\n",
        "\n",
        "    def subMatrix(A, B):\n",
        "        A = np.array(A)\n",
        "        B = np.array(B)\n",
        "\n",
        "        return A - B\n",
        "\n",
        "    def mulMatrix(A, B):\n",
        "        A = np.array(A)\n",
        "        B = np.array(B)\n",
        "\n",
        "        return A * B\n",
        "\n",
        "    def mulScalarMatrix(A, B):\n",
        "        A = np.array(A)\n",
        "\n",
        "        return A * B"
      ],
      "metadata": {
        "id": "8vit_qXtAUas"
      },
      "execution_count": null,
      "outputs": []
    },
    {
      "cell_type": "code",
      "source": [
        "def dotMatrix(A, B):\n",
        "    A = np.array(A)\n",
        "    B = np.array(B)\n",
        "\n",
        "    return A @ B"
      ],
      "metadata": {
        "id": "-WdC3WEHZfZl"
      },
      "execution_count": null,
      "outputs": []
    },
    {
      "cell_type": "code",
      "source": [
        "dotMatrix([[1, 2], [2, 3]], [[4, 5], [2, 3]])"
      ],
      "metadata": {
        "colab": {
          "base_uri": "https://localhost:8080/"
        },
        "id": "jjEpwsHYa4k4",
        "outputId": "dd2d946f-2a07-44ad-cab8-90d3c1006b5e"
      },
      "execution_count": null,
      "outputs": [
        {
          "output_type": "execute_result",
          "data": {
            "text/plain": [
              "array([[ 8, 11],\n",
              "       [14, 19]])"
            ]
          },
          "metadata": {},
          "execution_count": 16
        }
      ]
    },
    {
      "cell_type": "code",
      "source": [
        "import numpy as np\n",
        "\n",
        "class Matrix:\n",
        "\n",
        "    def sumMatrix(A, B):\n",
        "        A = np.array(A)\n",
        "        B = np.array(B)\n",
        "\n",
        "        return A + B\n",
        "\n",
        "    def subMatrix(A, B):\n",
        "        A = np.array(A)\n",
        "        B = np.array(B)\n",
        "\n",
        "        return A - B\n",
        "\n",
        "    def mulMatrix(A, B):\n",
        "        A = np.array(A)\n",
        "        B = np.array(B)\n",
        "\n",
        "        return A * B\n",
        "\n",
        "    def mulScalarMatrix(A, B):\n",
        "        A = np.array(A)\n",
        "\n",
        "        return A * B\n",
        "\n",
        "    def dotMatrix(A, B):\n",
        "        A = np.array(A)\n",
        "        B = np.array(B)\n",
        "\n",
        "        return A @ B"
      ],
      "metadata": {
        "id": "2xFM2xuca7Up"
      },
      "execution_count": null,
      "outputs": []
    },
    {
      "cell_type": "code",
      "source": [
        "def sumMatrix(A, B):\n",
        "    result = []\n",
        "\n",
        "    for i in range(len(A)):\n",
        "        for j in range(len(A[i])):\n",
        "            if len(A) != len(B) or len(A[i]) != len(B[i]):\n",
        "                return \"행렬 크기를 맞춰주세요\"\n",
        "\n",
        "    for i in range(len(A)):\n",
        "        tmp = []\n",
        "        for j in range(len(A[i])):\n",
        "            tmp.append(A[i][j] + B[i][j])\n",
        "        result.append(tmp)\n",
        "\n",
        "    return result"
      ],
      "metadata": {
        "id": "IizwTN4fc_xV"
      },
      "execution_count": null,
      "outputs": []
    },
    {
      "cell_type": "code",
      "source": [
        "print(sumMatrix([[1,2], [2,3]], [[3, 4],[5,6]]))"
      ],
      "metadata": {
        "colab": {
          "base_uri": "https://localhost:8080/"
        },
        "id": "Hmo-QkympZKq",
        "outputId": "9002089c-715a-40fd-fdf5-8e56fc1d3bfb"
      },
      "execution_count": null,
      "outputs": [
        {
          "output_type": "stream",
          "name": "stdout",
          "text": [
            "[[4, 6], [7, 9]]\n"
          ]
        }
      ]
    },
    {
      "cell_type": "code",
      "source": [
        "def subMatrix(A, B):\n",
        "    result = []\n",
        "\n",
        "    for i in range(len(A)):\n",
        "        for j in range(len(A[i])):\n",
        "            if len(A) != len(B) or len(A[i]) != len(B[i]):\n",
        "                return \"행렬 크기를 맞춰주세요\"\n",
        "\n",
        "    for i in range(len(A)):\n",
        "        tmp = []\n",
        "        for j in range(len(A[i])):\n",
        "            tmp.append(A[i][j] - B[i][j])\n",
        "        result.append(tmp)\n",
        "\n",
        "    return result"
      ],
      "metadata": {
        "id": "WCglLLeApayg"
      },
      "execution_count": null,
      "outputs": []
    },
    {
      "cell_type": "code",
      "source": [
        "def mulMatrix(A, B):\n",
        "    result = []\n",
        "\n",
        "    for i in range(len(A)):\n",
        "        for j in range(len(A[i])):\n",
        "            if len(A) != len(B) or len(A[i]) != len(B[i]):\n",
        "                return \"행렬 크기를 맞춰주세요\"\n",
        "\n",
        "    for i in range(len(A)):\n",
        "        tmp = []\n",
        "        for j in range(len(A[i])):\n",
        "            tmp.append(A[i][j] * B[i][j])\n",
        "        result.append(tmp)\n",
        "\n",
        "    return result"
      ],
      "metadata": {
        "id": "zYo4EweYhckU"
      },
      "execution_count": null,
      "outputs": []
    },
    {
      "cell_type": "code",
      "source": [
        "print(mulMatrix([[1,2], [2,3]], [[3, 4],[5,6]]))"
      ],
      "metadata": {
        "colab": {
          "base_uri": "https://localhost:8080/"
        },
        "id": "x26azATch32-",
        "outputId": "89bd9ab0-c7cf-4d56-bd76-89c0e45aa39c"
      },
      "execution_count": null,
      "outputs": [
        {
          "output_type": "stream",
          "name": "stdout",
          "text": [
            "[[3, 8], [10, 18]]\n"
          ]
        }
      ]
    },
    {
      "cell_type": "code",
      "source": [
        "def test_1(A, B):\n",
        "    for i in range(len(A)):\n",
        "        for j in range(len(A[i])):\n",
        "            if len(A) != len(B) or len(A[i]) != len(B[i]):\n",
        "                return \"행렬 크기를 맞춰주세요\""
      ],
      "metadata": {
        "id": "rOC1Y3lkh6aW"
      },
      "execution_count": null,
      "outputs": []
    },
    {
      "cell_type": "code",
      "source": [
        "def mulMatrix(A, B):\n",
        "    result = []\n",
        "\n",
        "    test_1(A, B)\n",
        "\n",
        "    for i in range(len(A)):\n",
        "        tmp = []\n",
        "        for j in range(len(A[i])):\n",
        "            tmp.append(A[i][j] * B[i][j])\n",
        "        result.append(tmp)\n",
        "\n",
        "    return result"
      ],
      "metadata": {
        "id": "99DyM1-eiW0P"
      },
      "execution_count": null,
      "outputs": []
    },
    {
      "cell_type": "code",
      "source": [
        "print(mulMatrix([[1,2, 3], [2,3, 4]], [[3, 4],[5,6]]))"
      ],
      "metadata": {
        "colab": {
          "base_uri": "https://localhost:8080/",
          "height": 269
        },
        "id": "paq0rV7JiX_C",
        "outputId": "5fa7eca9-fade-4cc7-f3ca-5000a7eb9b4b"
      },
      "execution_count": null,
      "outputs": [
        {
          "output_type": "error",
          "ename": "IndexError",
          "evalue": "list index out of range",
          "traceback": [
            "\u001b[0;31m---------------------------------------------------------------------------\u001b[0m",
            "\u001b[0;31mIndexError\u001b[0m                                Traceback (most recent call last)",
            "\u001b[0;32m<ipython-input-26-34bb58cbcbdb>\u001b[0m in \u001b[0;36m<cell line: 1>\u001b[0;34m()\u001b[0m\n\u001b[0;32m----> 1\u001b[0;31m \u001b[0mprint\u001b[0m\u001b[0;34m(\u001b[0m\u001b[0mmulMatrix\u001b[0m\u001b[0;34m(\u001b[0m\u001b[0;34m[\u001b[0m\u001b[0;34m[\u001b[0m\u001b[0;36m1\u001b[0m\u001b[0;34m,\u001b[0m\u001b[0;36m2\u001b[0m\u001b[0;34m,\u001b[0m \u001b[0;36m3\u001b[0m\u001b[0;34m]\u001b[0m\u001b[0;34m,\u001b[0m \u001b[0;34m[\u001b[0m\u001b[0;36m2\u001b[0m\u001b[0;34m,\u001b[0m\u001b[0;36m3\u001b[0m\u001b[0;34m,\u001b[0m \u001b[0;36m4\u001b[0m\u001b[0;34m]\u001b[0m\u001b[0;34m]\u001b[0m\u001b[0;34m,\u001b[0m \u001b[0;34m[\u001b[0m\u001b[0;34m[\u001b[0m\u001b[0;36m3\u001b[0m\u001b[0;34m,\u001b[0m \u001b[0;36m4\u001b[0m\u001b[0;34m]\u001b[0m\u001b[0;34m,\u001b[0m\u001b[0;34m[\u001b[0m\u001b[0;36m5\u001b[0m\u001b[0;34m,\u001b[0m\u001b[0;36m6\u001b[0m\u001b[0;34m]\u001b[0m\u001b[0;34m]\u001b[0m\u001b[0;34m)\u001b[0m\u001b[0;34m)\u001b[0m\u001b[0;34m\u001b[0m\u001b[0;34m\u001b[0m\u001b[0m\n\u001b[0m",
            "\u001b[0;32m<ipython-input-25-dd811e7ae002>\u001b[0m in \u001b[0;36mmulMatrix\u001b[0;34m(A, B)\u001b[0m\n\u001b[1;32m      7\u001b[0m         \u001b[0mtmp\u001b[0m \u001b[0;34m=\u001b[0m \u001b[0;34m[\u001b[0m\u001b[0;34m]\u001b[0m\u001b[0;34m\u001b[0m\u001b[0;34m\u001b[0m\u001b[0m\n\u001b[1;32m      8\u001b[0m         \u001b[0;32mfor\u001b[0m \u001b[0mj\u001b[0m \u001b[0;32min\u001b[0m \u001b[0mrange\u001b[0m\u001b[0;34m(\u001b[0m\u001b[0mlen\u001b[0m\u001b[0;34m(\u001b[0m\u001b[0mA\u001b[0m\u001b[0;34m[\u001b[0m\u001b[0mi\u001b[0m\u001b[0;34m]\u001b[0m\u001b[0;34m)\u001b[0m\u001b[0;34m)\u001b[0m\u001b[0;34m:\u001b[0m\u001b[0;34m\u001b[0m\u001b[0;34m\u001b[0m\u001b[0m\n\u001b[0;32m----> 9\u001b[0;31m             \u001b[0mtmp\u001b[0m\u001b[0;34m.\u001b[0m\u001b[0mappend\u001b[0m\u001b[0;34m(\u001b[0m\u001b[0mA\u001b[0m\u001b[0;34m[\u001b[0m\u001b[0mi\u001b[0m\u001b[0;34m]\u001b[0m\u001b[0;34m[\u001b[0m\u001b[0mj\u001b[0m\u001b[0;34m]\u001b[0m \u001b[0;34m*\u001b[0m \u001b[0mB\u001b[0m\u001b[0;34m[\u001b[0m\u001b[0mi\u001b[0m\u001b[0;34m]\u001b[0m\u001b[0;34m[\u001b[0m\u001b[0mj\u001b[0m\u001b[0;34m]\u001b[0m\u001b[0;34m)\u001b[0m\u001b[0;34m\u001b[0m\u001b[0;34m\u001b[0m\u001b[0m\n\u001b[0m\u001b[1;32m     10\u001b[0m         \u001b[0mresult\u001b[0m\u001b[0;34m.\u001b[0m\u001b[0mappend\u001b[0m\u001b[0;34m(\u001b[0m\u001b[0mtmp\u001b[0m\u001b[0;34m)\u001b[0m\u001b[0;34m\u001b[0m\u001b[0;34m\u001b[0m\u001b[0m\n\u001b[1;32m     11\u001b[0m \u001b[0;34m\u001b[0m\u001b[0m\n",
            "\u001b[0;31mIndexError\u001b[0m: list index out of range"
          ]
        }
      ]
    },
    {
      "cell_type": "code",
      "source": [
        "def scalarMulMatrix(A, B):\n",
        "    result = []\n",
        "\n",
        "    for i in range(len(A)):\n",
        "        tmp = []\n",
        "        for j in range(len(A[i])):\n",
        "            tmp.append(A[i][j] * B)\n",
        "        result.append(tmp)\n",
        "\n",
        "    return result"
      ],
      "metadata": {
        "id": "OnIEeAthiZQA"
      },
      "execution_count": null,
      "outputs": []
    },
    {
      "cell_type": "code",
      "source": [
        "print(scalarMulMatrix([[1,2, 3], [2,3, 4]], 2))"
      ],
      "metadata": {
        "colab": {
          "base_uri": "https://localhost:8080/"
        },
        "id": "kKJUThjXjf3e",
        "outputId": "78c9ab24-5064-4f0b-820a-ac6f9cafed11"
      },
      "execution_count": null,
      "outputs": [
        {
          "output_type": "stream",
          "name": "stdout",
          "text": [
            "[[2, 4, 6], [4, 6, 8]]\n"
          ]
        }
      ]
    },
    {
      "cell_type": "code",
      "source": [
        "def mulMatrix(A, B):\n",
        "    result = []\n",
        "\n",
        "    for i in range(len(A)):\n",
        "        for j in range(len(A[i])):\n",
        "            if len(A[i]) != len(B):\n",
        "                return \"행렬 크기를 맞춰주세요\"\n",
        "\n",
        "    for i in range(len(A)):\n",
        "        tmp = []\n",
        "        for j in range(len(B[i])):\n",
        "            tmp.append(A[i][j] * B[j][i])\n",
        "        result.append(tmp)\n",
        "\n",
        "    return result"
      ],
      "metadata": {
        "id": "hdFA1Q_sjiyK"
      },
      "execution_count": null,
      "outputs": []
    },
    {
      "cell_type": "code",
      "source": [
        "print(mulMatrix([[1,2], [2,3], [3, 4]], [[3, 4],[5,6], [7, 8]]))"
      ],
      "metadata": {
        "colab": {
          "base_uri": "https://localhost:8080/"
        },
        "id": "VAA9l4JcpvEZ",
        "outputId": "6512d9c0-9f1b-4e1c-aa6b-a26ad2a55e98"
      },
      "execution_count": null,
      "outputs": [
        {
          "output_type": "stream",
          "name": "stdout",
          "text": [
            "행렬 크기를 맞춰주세요\n"
          ]
        }
      ]
    },
    {
      "cell_type": "code",
      "source": [
        "def mulMatrix(A, B):\n",
        "    answer = [[0] * len(B[0]) for row in range(len(A))]\n",
        "\n",
        "    for row in range(len(A)):\n",
        "        for col in range(len(B[0])):\n",
        "            sum = 0\n",
        "            for i in range(len(A[0])):\n",
        "                sum += (A[row][i] * B[i][col])\n",
        "            answer[row][col] = sum\n",
        "    return answer"
      ],
      "metadata": {
        "id": "a5EtUoDip_xt"
      },
      "execution_count": null,
      "outputs": []
    },
    {
      "cell_type": "code",
      "source": [
        "mulMatrix([[1, 2], [3, 4], [5, 6]], [[2, 4], [1, 2]])"
      ],
      "metadata": {
        "colab": {
          "base_uri": "https://localhost:8080/"
        },
        "id": "7JLTrxhZb_RV",
        "outputId": "28114510-8c7a-43dc-d973-3af288a72a6c"
      },
      "execution_count": null,
      "outputs": [
        {
          "output_type": "execute_result",
          "data": {
            "text/plain": [
              "[[4, 8], [10, 20], [16, 32]]"
            ]
          },
          "metadata": {},
          "execution_count": 4
        }
      ]
    },
    {
      "cell_type": "code",
      "source": [
        "class Matrix:\n",
        "\n",
        "    def sumMatrix(A, B):\n",
        "        result = []\n",
        "\n",
        "        for i in range(len(A)):\n",
        "            for j in range(len(A[i])):\n",
        "                if len(A) != len(B) or len(A[i]) != len(B[i]):\n",
        "                    return \"행렬 크기를 맞춰주세요\"\n",
        "\n",
        "        for i in range(len(A)):\n",
        "            tmp = []\n",
        "            for j in range(len(A[i])):\n",
        "                tmp.append(A[i][j] + B[i][j])\n",
        "            result.append(tmp)\n",
        "\n",
        "        return result\n",
        "\n",
        "    def subMatrix(A, B):\n",
        "        result = []\n",
        "\n",
        "        for i in range(len(A)):\n",
        "            for j in range(len(A[i])):\n",
        "                if len(A) != len(B) or len(A[i]) != len(B[i]):\n",
        "                    return \"행렬 크기를 맞춰주세요\"\n",
        "\n",
        "        for i in range(len(A)):\n",
        "            tmp = []\n",
        "            for j in range(len(A[i])):\n",
        "                tmp.append(A[i][j] - B[i][j])\n",
        "            result.append(tmp)\n",
        "\n",
        "        return result\n",
        "\n",
        "    def scalarMulMatrix(A, B):\n",
        "        result = []\n",
        "\n",
        "        for i in range(len(A)):\n",
        "            tmp = []\n",
        "            for j in range(len(A[i])):\n",
        "                tmp.append(A[i][j] * B)\n",
        "            result.append(tmp)\n",
        "\n",
        "        return result\n",
        "\n",
        "    def mulMatrix(A, B):\n",
        "\n",
        "        if len(A[0]) != len(B):\n",
        "            return \"행렬 크기를 맞춰주세요\"\n",
        "\n",
        "        answer = [[0] * len(B[0]) for row in range(len(A))]\n",
        "\n",
        "        for row in range(len(A)):\n",
        "            for col in range(len(B[0])):\n",
        "                sum = 0\n",
        "                for i in range(len(A[0])):\n",
        "                    sum += (A[row][i] * B[i][col])\n",
        "                answer[row][col] = sum\n",
        "        return answer"
      ],
      "metadata": {
        "id": "7ook9MPrcFjR"
      },
      "execution_count": null,
      "outputs": []
    },
    {
      "cell_type": "code",
      "source": [
        "def mulMatrix(A, B):\n",
        "\n",
        "    if len(A[0]) != len(B):\n",
        "        return \"행렬 크기를 맞춰주세요\"\n",
        "\n",
        "    answer = [[0] * len(B[0]) for row in range(len(A))]\n",
        "\n",
        "    for row in range(len(A)):\n",
        "        for col in range(len(B[0])):\n",
        "            sum = 0\n",
        "            for i in range(len(A[0])):\n",
        "                sum += (A[row][i] * B[i][col])\n",
        "            answer[row][col] = sum\n",
        "    return answer"
      ],
      "metadata": {
        "id": "yvCmBXzbcdE4"
      },
      "execution_count": null,
      "outputs": []
    },
    {
      "cell_type": "code",
      "source": [
        "mulMatrix([[1, 2, 3], [3, 4, 5], [5, 6, 7]], [[2, 4], [1, 2]])"
      ],
      "metadata": {
        "colab": {
          "base_uri": "https://localhost:8080/",
          "height": 36
        },
        "id": "qoeEdSALeHZF",
        "outputId": "9468b168-ccb4-432c-bd0a-c4393385c6b3"
      },
      "execution_count": null,
      "outputs": [
        {
          "output_type": "execute_result",
          "data": {
            "text/plain": [
              "'행렬 크기를 맞춰주세요'"
            ],
            "application/vnd.google.colaboratory.intrinsic+json": {
              "type": "string"
            }
          },
          "metadata": {},
          "execution_count": 9
        }
      ]
    },
    {
      "cell_type": "code",
      "source": [],
      "metadata": {
        "id": "ce3X9NKeeJeB"
      },
      "execution_count": null,
      "outputs": []
    }
  ]
}